{
 "cells": [
  {
   "cell_type": "code",
   "execution_count": 3,
   "metadata": {},
   "outputs": [
    {
     "data": {
      "text/plain": [
       "'[INST]potato에 대해 설명해줘[/INST] 감자(Solanum tuberosum)는 어�dark-leaved nightshade family의 식물로, 지중하에서 토양의 유기성 영양소를 흡수하여 지상에 자랄 수 있는 덩굴을 형성합니다. 감자는 대부분 지상에서 꽃을 피우고, 그 꽃에서 열매를 생성하는 식물은 아니지만, 토양에서 자랄 때 토양의 유기성 영양소를 흡수하여 토양 속에서 자랄 수 있는 특별한 유형의 식물입니다.\\n\\n감자는 세계적으로 매우 유명하고 널리 생산되는 식물입니다. 원산지는 남아메리카의 안디 '"
      ]
     },
     "execution_count": 3,
     "metadata": {},
     "output_type": "execute_result"
    }
   ],
   "source": [
    "from langchain.llms import HuggingFaceHub\n",
    "from langchain.prompts import PromptTemplate\n",
    "\n",
    "# prompt = PromptTemplate.from_template(\"[INST]What is the meaning of {word}[/INST]\")\n",
    "prompt = PromptTemplate.from_template(\"[INST]{word}에 대해 설명해줘[/INST]\")\n",
    "\n",
    "llm = HuggingFaceHub(\n",
    "    repo_id=\"mistralai/Mixtral-8x7B-Instruct-v0.1\",\n",
    "    model_kwargs={\n",
    "        \"max_new_tokens\": 250,\n",
    "    }\n",
    ")\n",
    "\n",
    "chain = prompt | llm\n",
    "\n",
    "chain.invoke({\"word\": \"potato\"})"
   ]
  }
 ],
 "metadata": {
  "kernelspec": {
   "display_name": "env",
   "language": "python",
   "name": "python3"
  },
  "language_info": {
   "codemirror_mode": {
    "name": "ipython",
    "version": 3
   },
   "file_extension": ".py",
   "mimetype": "text/x-python",
   "name": "python",
   "nbconvert_exporter": "python",
   "pygments_lexer": "ipython3",
   "version": "3.10.13"
  }
 },
 "nbformat": 4,
 "nbformat_minor": 2
}
